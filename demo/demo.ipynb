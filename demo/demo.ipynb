{
 "cells": [
  {
   "cell_type": "code",
   "execution_count": 2,
   "metadata": {},
   "outputs": [],
   "source": [
    "import gdown"
   ]
  },
  {
   "cell_type": "markdown",
   "metadata": {},
   "source": [
    "#Download pre-trained model"
   ]
  },
  {
   "cell_type": "code",
   "execution_count": 4,
   "metadata": {},
   "outputs": [
    {
     "name": "stderr",
     "output_type": "stream",
     "text": [
      "Downloading...\n",
      "From (original): https://drive.google.com/uc?id=1hWLFNcZ3ZZDAz6vgVBQN4HUzVAU9kLnf\n",
      "From (redirected): https://drive.google.com/uc?id=1hWLFNcZ3ZZDAz6vgVBQN4HUzVAU9kLnf&confirm=t&uuid=71bc28c4-104c-4efb-bfb0-f6bfafb99b69\n",
      "To: /Users/xinyucheng/uw/ece 596/final/code/dendritic spine segmentation/demo/unet_trained_model.keras\n",
      "100%|██████████| 373M/373M [01:01<00:00, 6.04MB/s]\n"
     ]
    },
    {
     "data": {
      "text/plain": [
       "'unet_trained_model.keras'"
      ]
     },
     "execution_count": 4,
     "metadata": {},
     "output_type": "execute_result"
    }
   ],
   "source": [
    "file_id = '1hWLFNcZ3ZZDAz6vgVBQN4HUzVAU9kLnf' #Google drive id\n",
    "output = 'unet_trained_model.keras'  # The name to save the file as\n",
    "gdown.download(f'https://drive.google.com/uc?id={file_id}', output, quiet=False)\n"
   ]
  },
  {
   "cell_type": "markdown",
   "metadata": {},
   "source": [
    "#Run main.py. Use the pre-trained model"
   ]
  },
  {
   "cell_type": "code",
   "execution_count": 5,
   "metadata": {},
   "outputs": [
    {
     "name": "stdout",
     "output_type": "stream",
     "text": [
      "/Users/xinyucheng/uw/ece 596/final/code/dendritic spine segmentation/src\n"
     ]
    },
    {
     "name": "stderr",
     "output_type": "stream",
     "text": [
      "/Users/xinyucheng/uw/ece 596/final/code/dendritic spine segmentation/env/lib/python3.12/site-packages/IPython/core/magics/osm.py:417: UserWarning: This is now an optional IPython functionality, setting dhist requires you to install the `pickleshare` library.\n",
      "  self.shell.db['dhist'] = compress_dhist(dhist)[-100:]\n"
     ]
    }
   ],
   "source": [
    "%cd ../src"
   ]
  },
  {
   "cell_type": "code",
   "execution_count": null,
   "metadata": {},
   "outputs": [],
   "source": [
    "!python3 main.py"
   ]
  }
 ],
 "metadata": {
  "kernelspec": {
   "display_name": "env",
   "language": "python",
   "name": "python3"
  },
  "language_info": {
   "codemirror_mode": {
    "name": "ipython",
    "version": 3
   },
   "file_extension": ".py",
   "mimetype": "text/x-python",
   "name": "python",
   "nbconvert_exporter": "python",
   "pygments_lexer": "ipython3",
   "version": "3.12.4"
  }
 },
 "nbformat": 4,
 "nbformat_minor": 2
}
